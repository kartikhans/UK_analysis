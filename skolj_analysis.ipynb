{
 "cells": [
  {
   "cell_type": "code",
   "execution_count": 1,
   "metadata": {},
   "outputs": [],
   "source": [
    "import pandas as pd"
   ]
  },
  {
   "cell_type": "code",
   "execution_count": 2,
   "metadata": {},
   "outputs": [
    {
     "name": "stderr",
     "output_type": "stream",
     "text": [
      "/Library/Frameworks/Python.framework/Versions/3.7/lib/python3.7/site-packages/IPython/core/interactiveshell.py:3058: DtypeWarning: Columns (2) have mixed types. Specify dtype option on import or set low_memory=False.\n",
      "  interactivity=interactivity, compiler=compiler, result=result)\n"
     ]
    }
   ],
   "source": [
    "block_0 = pd.read_csv(\"Data/blocks/block_0.csv\")\n",
    "block_1 = pd.read_csv(\"Data/blocks/block_1.csv\")\n",
    "block_2 = pd.read_csv(\"Data/blocks/block_2.csv\")\n",
    "block_3 = pd.read_csv(\"Data/blocks/block_3.csv\")\n",
    "block_4 = pd.read_csv(\"Data/blocks/block_4.csv\")\n",
    "block_5 = pd.read_csv(\"Data/blocks/block_5.csv\")\n",
    "block_6 = pd.read_csv(\"Data/blocks/block_6.csv\")\n",
    "block_7 = pd.read_csv(\"Data/blocks/block_7.csv\")\n",
    "block_8 = pd.read_csv(\"Data/blocks/block_8.csv\")\n",
    "block_9 = pd.read_csv(\"Data/blocks/block_9.csv\")\n",
    "block_10 = pd.read_csv(\"Data/blocks/block_10.csv\")\n",
    "block_11 = pd.read_csv(\"Data/blocks/block_11.csv\")\n",
    "block_12 = pd.read_csv(\"Data/blocks/block_12.csv\")\n",
    "block_13 = pd.read_csv(\"Data/blocks/block_13.csv\")\n",
    "block_14 = pd.read_csv(\"Data/blocks/block_14.csv\")"
   ]
  },
  {
   "cell_type": "code",
   "execution_count": 6,
   "metadata": {},
   "outputs": [],
   "source": [
    "block_0 = pd.read_csv(\"Data/blocks/block_0.csv\")"
   ]
  },
  {
   "cell_type": "code",
   "execution_count": 4,
   "metadata": {
    "scrolled": true
   },
   "outputs": [
    {
     "data": {
      "text/html": [
       "<div>\n",
       "<style scoped>\n",
       "    .dataframe tbody tr th:only-of-type {\n",
       "        vertical-align: middle;\n",
       "    }\n",
       "\n",
       "    .dataframe tbody tr th {\n",
       "        vertical-align: top;\n",
       "    }\n",
       "\n",
       "    .dataframe thead th {\n",
       "        text-align: right;\n",
       "    }\n",
       "</style>\n",
       "<table border=\"1\" class=\"dataframe\">\n",
       "  <thead>\n",
       "    <tr style=\"text-align: right;\">\n",
       "      <th></th>\n",
       "      <th>LCLid</th>\n",
       "      <th>tstp</th>\n",
       "      <th>energy(kWh/hh)</th>\n",
       "    </tr>\n",
       "  </thead>\n",
       "  <tbody>\n",
       "    <tr>\n",
       "      <th>0</th>\n",
       "      <td>MAC000002</td>\n",
       "      <td>2012-10-12 00:30:00.0000000</td>\n",
       "      <td>0</td>\n",
       "    </tr>\n",
       "    <tr>\n",
       "      <th>1</th>\n",
       "      <td>MAC000002</td>\n",
       "      <td>2012-10-12 01:00:00.0000000</td>\n",
       "      <td>0</td>\n",
       "    </tr>\n",
       "    <tr>\n",
       "      <th>2</th>\n",
       "      <td>MAC000002</td>\n",
       "      <td>2012-10-12 01:30:00.0000000</td>\n",
       "      <td>0</td>\n",
       "    </tr>\n",
       "    <tr>\n",
       "      <th>3</th>\n",
       "      <td>MAC000002</td>\n",
       "      <td>2012-10-12 02:00:00.0000000</td>\n",
       "      <td>0</td>\n",
       "    </tr>\n",
       "    <tr>\n",
       "      <th>4</th>\n",
       "      <td>MAC000002</td>\n",
       "      <td>2012-10-12 02:30:00.0000000</td>\n",
       "      <td>0</td>\n",
       "    </tr>\n",
       "  </tbody>\n",
       "</table>\n",
       "</div>"
      ],
      "text/plain": [
       "       LCLid                         tstp energy(kWh/hh)\n",
       "0  MAC000002  2012-10-12 00:30:00.0000000             0 \n",
       "1  MAC000002  2012-10-12 01:00:00.0000000             0 \n",
       "2  MAC000002  2012-10-12 01:30:00.0000000             0 \n",
       "3  MAC000002  2012-10-12 02:00:00.0000000             0 \n",
       "4  MAC000002  2012-10-12 02:30:00.0000000             0 "
      ]
     },
     "execution_count": 4,
     "metadata": {},
     "output_type": "execute_result"
    }
   ],
   "source": [
    "block_0.head()"
   ]
  },
  {
   "cell_type": "markdown",
   "metadata": {},
   "source": [
    "This information provides the necessary KWH/hh energy readings and the associated timestamps. However, these block CSV files do not provide socioeconomic information that corresponds to each household, which is stored in a separate CSV file called 'informations_household_update.csv.' This file contains the LCLid of each household, which is also present in each block CSV file. In addition, 'informations_household_update.csv' also contains stdorToU values, Acorn category (Acorn A - Acorn Q), Acorn Group ('Affluent','Comfortable','Adversity'), and the block CSV file that the particular LCLid is stored in. 'informations_household_update.csv' stores the socioeconomic information for all 15 block CSV files."
   ]
  },
  {
   "cell_type": "code",
   "execution_count": 3,
   "metadata": {},
   "outputs": [
    {
     "data": {
      "text/html": [
       "<div>\n",
       "<style scoped>\n",
       "    .dataframe tbody tr th:only-of-type {\n",
       "        vertical-align: middle;\n",
       "    }\n",
       "\n",
       "    .dataframe tbody tr th {\n",
       "        vertical-align: top;\n",
       "    }\n",
       "\n",
       "    .dataframe thead th {\n",
       "        text-align: right;\n",
       "    }\n",
       "</style>\n",
       "<table border=\"1\" class=\"dataframe\">\n",
       "  <thead>\n",
       "    <tr style=\"text-align: right;\">\n",
       "      <th></th>\n",
       "      <th>LCLid</th>\n",
       "      <th>stdorToU</th>\n",
       "      <th>Acorn</th>\n",
       "      <th>Acorn_grouped</th>\n",
       "      <th>file</th>\n",
       "    </tr>\n",
       "  </thead>\n",
       "  <tbody>\n",
       "    <tr>\n",
       "      <th>0</th>\n",
       "      <td>MAC000002</td>\n",
       "      <td>Std</td>\n",
       "      <td>ACORN-A</td>\n",
       "      <td>Affluent</td>\n",
       "      <td>block_0</td>\n",
       "    </tr>\n",
       "    <tr>\n",
       "      <th>1</th>\n",
       "      <td>MAC000003</td>\n",
       "      <td>Std</td>\n",
       "      <td>ACORN-P</td>\n",
       "      <td>Adversity</td>\n",
       "      <td>block_0</td>\n",
       "    </tr>\n",
       "    <tr>\n",
       "      <th>2</th>\n",
       "      <td>MAC000004</td>\n",
       "      <td>Std</td>\n",
       "      <td>ACORN-E</td>\n",
       "      <td>Affluent</td>\n",
       "      <td>block_0</td>\n",
       "    </tr>\n",
       "    <tr>\n",
       "      <th>3</th>\n",
       "      <td>MAC000006</td>\n",
       "      <td>Std</td>\n",
       "      <td>ACORN-Q</td>\n",
       "      <td>Adversity</td>\n",
       "      <td>block_0</td>\n",
       "    </tr>\n",
       "    <tr>\n",
       "      <th>4</th>\n",
       "      <td>MAC000007</td>\n",
       "      <td>Std</td>\n",
       "      <td>ACORN-H</td>\n",
       "      <td>Comfortable</td>\n",
       "      <td>block_0</td>\n",
       "    </tr>\n",
       "  </tbody>\n",
       "</table>\n",
       "</div>"
      ],
      "text/plain": [
       "       LCLid stdorToU    Acorn Acorn_grouped     file\n",
       "0  MAC000002      Std  ACORN-A      Affluent  block_0\n",
       "1  MAC000003      Std  ACORN-P     Adversity  block_0\n",
       "2  MAC000004      Std  ACORN-E      Affluent  block_0\n",
       "3  MAC000006      Std  ACORN-Q     Adversity  block_0\n",
       "4  MAC000007      Std  ACORN-H   Comfortable  block_0"
      ]
     },
     "execution_count": 3,
     "metadata": {},
     "output_type": "execute_result"
    }
   ],
   "source": [
    "informations_household_update = pd.read_csv(\"Data/informations_households.csv\")\n",
    "informations_household_update.head()"
   ]
  },
  {
   "cell_type": "code",
   "execution_count": 6,
   "metadata": {},
   "outputs": [
    {
     "data": {
      "text/html": [
       "<div>\n",
       "<style scoped>\n",
       "    .dataframe tbody tr th:only-of-type {\n",
       "        vertical-align: middle;\n",
       "    }\n",
       "\n",
       "    .dataframe tbody tr th {\n",
       "        vertical-align: top;\n",
       "    }\n",
       "\n",
       "    .dataframe thead th {\n",
       "        text-align: right;\n",
       "    }\n",
       "</style>\n",
       "<table border=\"1\" class=\"dataframe\">\n",
       "  <thead>\n",
       "    <tr style=\"text-align: right;\">\n",
       "      <th></th>\n",
       "      <th>LCLid</th>\n",
       "      <th>stdorToU</th>\n",
       "      <th>Acorn</th>\n",
       "      <th>Acorn_grouped</th>\n",
       "      <th>file</th>\n",
       "    </tr>\n",
       "  </thead>\n",
       "  <tbody>\n",
       "    <tr>\n",
       "      <th>5561</th>\n",
       "      <td>MAC005550</td>\n",
       "      <td>ToU</td>\n",
       "      <td>ACORN-C</td>\n",
       "      <td>Affluent</td>\n",
       "      <td>block_14</td>\n",
       "    </tr>\n",
       "    <tr>\n",
       "      <th>5562</th>\n",
       "      <td>MAC005551</td>\n",
       "      <td>ToU</td>\n",
       "      <td>ACORN-F</td>\n",
       "      <td>Comfortable</td>\n",
       "      <td>block_14</td>\n",
       "    </tr>\n",
       "    <tr>\n",
       "      <th>5563</th>\n",
       "      <td>MAC005557</td>\n",
       "      <td>ToU</td>\n",
       "      <td>ACORN-Q</td>\n",
       "      <td>Adversity</td>\n",
       "      <td>block_14</td>\n",
       "    </tr>\n",
       "    <tr>\n",
       "      <th>5564</th>\n",
       "      <td>MAC005564</td>\n",
       "      <td>ToU</td>\n",
       "      <td>ACORN-Q</td>\n",
       "      <td>Adversity</td>\n",
       "      <td>block_14</td>\n",
       "    </tr>\n",
       "    <tr>\n",
       "      <th>5565</th>\n",
       "      <td>MAC005565</td>\n",
       "      <td>ToU</td>\n",
       "      <td>ACORN-C</td>\n",
       "      <td>Affluent</td>\n",
       "      <td>block_14</td>\n",
       "    </tr>\n",
       "  </tbody>\n",
       "</table>\n",
       "</div>"
      ],
      "text/plain": [
       "          LCLid stdorToU    Acorn Acorn_grouped      file\n",
       "5561  MAC005550      ToU  ACORN-C      Affluent  block_14\n",
       "5562  MAC005551      ToU  ACORN-F   Comfortable  block_14\n",
       "5563  MAC005557      ToU  ACORN-Q     Adversity  block_14\n",
       "5564  MAC005564      ToU  ACORN-Q     Adversity  block_14\n",
       "5565  MAC005565      ToU  ACORN-C      Affluent  block_14"
      ]
     },
     "execution_count": 6,
     "metadata": {},
     "output_type": "execute_result"
    }
   ],
   "source": [
    "informations_household_update.tail()\n"
   ]
  },
  {
   "cell_type": "code",
   "execution_count": 19,
   "metadata": {},
   "outputs": [
    {
     "ename": "SyntaxError",
     "evalue": "invalid syntax (<ipython-input-19-f6ba50c4b7b1>, line 1)",
     "output_type": "error",
     "traceback": [
      "\u001b[0;36m  File \u001b[0;32m\"<ipython-input-19-f6ba50c4b7b1>\"\u001b[0;36m, line \u001b[0;32m1\u001b[0m\n\u001b[0;31m    awk (NR==1 or block_0) informations_household_update >\u001b[0m\n\u001b[0m                                                       ^\u001b[0m\n\u001b[0;31mSyntaxError\u001b[0m\u001b[0;31m:\u001b[0m invalid syntax\n"
     ]
    }
   ],
   "source": [
    "awk (NR==1 or block_0) informations_household_update > \n",
    "household_info_block_0"
   ]
  },
  {
   "cell_type": "code",
   "execution_count": 4,
   "metadata": {},
   "outputs": [],
   "source": [
    "sam = informations_household_update[informations_household_update['file']=='block_0']"
   ]
  },
  {
   "cell_type": "code",
   "execution_count": 6,
   "metadata": {},
   "outputs": [
    {
     "data": {
      "text/html": [
       "<div>\n",
       "<style scoped>\n",
       "    .dataframe tbody tr th:only-of-type {\n",
       "        vertical-align: middle;\n",
       "    }\n",
       "\n",
       "    .dataframe tbody tr th {\n",
       "        vertical-align: top;\n",
       "    }\n",
       "\n",
       "    .dataframe thead th {\n",
       "        text-align: right;\n",
       "    }\n",
       "</style>\n",
       "<table border=\"1\" class=\"dataframe\">\n",
       "  <thead>\n",
       "    <tr style=\"text-align: right;\">\n",
       "      <th></th>\n",
       "      <th>LCLid</th>\n",
       "      <th>stdorToU</th>\n",
       "      <th>Acorn</th>\n",
       "      <th>Acorn_grouped</th>\n",
       "      <th>file</th>\n",
       "    </tr>\n",
       "  </thead>\n",
       "  <tbody>\n",
       "    <tr>\n",
       "      <th>385</th>\n",
       "      <td>MAC000463</td>\n",
       "      <td>Std</td>\n",
       "      <td>ACORN-E</td>\n",
       "      <td>Affluent</td>\n",
       "      <td>block_0</td>\n",
       "    </tr>\n",
       "    <tr>\n",
       "      <th>386</th>\n",
       "      <td>MAC000466</td>\n",
       "      <td>Std</td>\n",
       "      <td>ACORN-L</td>\n",
       "      <td>Adversity</td>\n",
       "      <td>block_0</td>\n",
       "    </tr>\n",
       "    <tr>\n",
       "      <th>387</th>\n",
       "      <td>MAC000468</td>\n",
       "      <td>Std</td>\n",
       "      <td>ACORN-F</td>\n",
       "      <td>Comfortable</td>\n",
       "      <td>block_0</td>\n",
       "    </tr>\n",
       "    <tr>\n",
       "      <th>388</th>\n",
       "      <td>MAC000469</td>\n",
       "      <td>Std</td>\n",
       "      <td>ACORN-E</td>\n",
       "      <td>Affluent</td>\n",
       "      <td>block_0</td>\n",
       "    </tr>\n",
       "    <tr>\n",
       "      <th>389</th>\n",
       "      <td>MAC000471</td>\n",
       "      <td>Std</td>\n",
       "      <td>ACORN-Q</td>\n",
       "      <td>Adversity</td>\n",
       "      <td>block_0</td>\n",
       "    </tr>\n",
       "  </tbody>\n",
       "</table>\n",
       "</div>"
      ],
      "text/plain": [
       "         LCLid stdorToU    Acorn Acorn_grouped     file\n",
       "385  MAC000463      Std  ACORN-E      Affluent  block_0\n",
       "386  MAC000466      Std  ACORN-L     Adversity  block_0\n",
       "387  MAC000468      Std  ACORN-F   Comfortable  block_0\n",
       "388  MAC000469      Std  ACORN-E      Affluent  block_0\n",
       "389  MAC000471      Std  ACORN-Q     Adversity  block_0"
      ]
     },
     "execution_count": 6,
     "metadata": {},
     "output_type": "execute_result"
    }
   ],
   "source": [
    "sam.tail()"
   ]
  },
  {
   "cell_type": "code",
   "execution_count": 14,
   "metadata": {},
   "outputs": [],
   "source": [
    "household_info_block0=informations_household_update[informations_household_update['file']=='block_0']"
   ]
  },
  {
   "cell_type": "code",
   "execution_count": 15,
   "metadata": {},
   "outputs": [],
   "source": [
    "household_info_block1=informations_household_update[informations_household_update['file']=='block_1']\n",
    "household_info_block2=informations_household_update[informations_household_update['file']=='block_2']\n",
    "household_info_block3=informations_household_update[informations_household_update['file']=='block_3']\n",
    "household_info_block4=informations_household_update[informations_household_update['file']=='block_4']\n",
    "household_info_block5=informations_household_update[informations_household_update['file']=='block_5']\n",
    "household_info_block6=informations_household_update[informations_household_update['file']=='block_6']\n",
    "household_info_block7=informations_household_update[informations_household_update['file']=='block_7']\n",
    "household_info_block8=informations_household_update[informations_household_update['file']=='block_8']\n",
    "household_info_block9=informations_household_update[informations_household_update['file']=='block_9']\n",
    "household_info_block10=informations_household_update[informations_household_update['file']=='block_10']"
   ]
  },
  {
   "cell_type": "code",
   "execution_count": 16,
   "metadata": {},
   "outputs": [],
   "source": [
    "household_info_block11=informations_household_update[informations_household_update['file']=='block_11']\n",
    "household_info_block12=informations_household_update[informations_household_update['file']=='block_12']\n",
    "household_info_block13=informations_household_update[informations_household_update['file']=='block_13']\n",
    "household_info_block14=informations_household_update[informations_household_update['file']=='block_14']"
   ]
  },
  {
   "cell_type": "markdown",
   "metadata": {},
   "source": [
    "Considering there is now a socioeconomic background CSV file for each individual block CSV file, these files can be merged together using the common LCLid column, then subgrouped by data recorded from the year 2013 using Pandas commands:"
   ]
  },
  {
   "cell_type": "code",
   "execution_count": 17,
   "metadata": {},
   "outputs": [
    {
     "data": {
      "text/html": [
       "<div>\n",
       "<style scoped>\n",
       "    .dataframe tbody tr th:only-of-type {\n",
       "        vertical-align: middle;\n",
       "    }\n",
       "\n",
       "    .dataframe tbody tr th {\n",
       "        vertical-align: top;\n",
       "    }\n",
       "\n",
       "    .dataframe thead th {\n",
       "        text-align: right;\n",
       "    }\n",
       "</style>\n",
       "<table border=\"1\" class=\"dataframe\">\n",
       "  <thead>\n",
       "    <tr style=\"text-align: right;\">\n",
       "      <th></th>\n",
       "      <th>LCLid</th>\n",
       "      <th>stdorToU</th>\n",
       "      <th>Acorn</th>\n",
       "      <th>Acorn_grouped</th>\n",
       "      <th>file</th>\n",
       "    </tr>\n",
       "  </thead>\n",
       "  <tbody>\n",
       "    <tr>\n",
       "      <th>4290</th>\n",
       "      <td>MAC005371</td>\n",
       "      <td>Std</td>\n",
       "      <td>ACORN-L</td>\n",
       "      <td>Adversity</td>\n",
       "      <td>block_11</td>\n",
       "    </tr>\n",
       "    <tr>\n",
       "      <th>4291</th>\n",
       "      <td>MAC005372</td>\n",
       "      <td>Std</td>\n",
       "      <td>ACORN-F</td>\n",
       "      <td>Comfortable</td>\n",
       "      <td>block_11</td>\n",
       "    </tr>\n",
       "    <tr>\n",
       "      <th>4292</th>\n",
       "      <td>MAC005373</td>\n",
       "      <td>Std</td>\n",
       "      <td>ACORN-E</td>\n",
       "      <td>Affluent</td>\n",
       "      <td>block_11</td>\n",
       "    </tr>\n",
       "    <tr>\n",
       "      <th>4293</th>\n",
       "      <td>MAC005374</td>\n",
       "      <td>Std</td>\n",
       "      <td>ACORN-G</td>\n",
       "      <td>Comfortable</td>\n",
       "      <td>block_11</td>\n",
       "    </tr>\n",
       "    <tr>\n",
       "      <th>4294</th>\n",
       "      <td>MAC005375</td>\n",
       "      <td>Std</td>\n",
       "      <td>ACORN-E</td>\n",
       "      <td>Affluent</td>\n",
       "      <td>block_11</td>\n",
       "    </tr>\n",
       "  </tbody>\n",
       "</table>\n",
       "</div>"
      ],
      "text/plain": [
       "          LCLid stdorToU    Acorn Acorn_grouped      file\n",
       "4290  MAC005371      Std  ACORN-L     Adversity  block_11\n",
       "4291  MAC005372      Std  ACORN-F   Comfortable  block_11\n",
       "4292  MAC005373      Std  ACORN-E      Affluent  block_11\n",
       "4293  MAC005374      Std  ACORN-G   Comfortable  block_11\n",
       "4294  MAC005375      Std  ACORN-E      Affluent  block_11"
      ]
     },
     "execution_count": 17,
     "metadata": {},
     "output_type": "execute_result"
    }
   ],
   "source": [
    "household_info_block11.head()"
   ]
  },
  {
   "cell_type": "code",
   "execution_count": 19,
   "metadata": {},
   "outputs": [
    {
     "data": {
      "text/html": [
       "<div>\n",
       "<style scoped>\n",
       "    .dataframe tbody tr th:only-of-type {\n",
       "        vertical-align: middle;\n",
       "    }\n",
       "\n",
       "    .dataframe tbody tr th {\n",
       "        vertical-align: top;\n",
       "    }\n",
       "\n",
       "    .dataframe thead th {\n",
       "        text-align: right;\n",
       "    }\n",
       "</style>\n",
       "<table border=\"1\" class=\"dataframe\">\n",
       "  <thead>\n",
       "    <tr style=\"text-align: right;\">\n",
       "      <th></th>\n",
       "      <th>LCLid</th>\n",
       "      <th>tstp</th>\n",
       "      <th>energy(kWh/hh)</th>\n",
       "      <th>stdorToU</th>\n",
       "      <th>Acorn</th>\n",
       "      <th>Acorn_grouped</th>\n",
       "      <th>file</th>\n",
       "    </tr>\n",
       "  </thead>\n",
       "  <tbody>\n",
       "    <tr>\n",
       "      <th>3837</th>\n",
       "      <td>MAC000002</td>\n",
       "      <td>2013-01-01 00:00:00.0000000</td>\n",
       "      <td>0.219</td>\n",
       "      <td>Std</td>\n",
       "      <td>ACORN-A</td>\n",
       "      <td>Affluent</td>\n",
       "      <td>block_0</td>\n",
       "    </tr>\n",
       "    <tr>\n",
       "      <th>3838</th>\n",
       "      <td>MAC000002</td>\n",
       "      <td>2013-01-01 00:30:00.0000000</td>\n",
       "      <td>0.241</td>\n",
       "      <td>Std</td>\n",
       "      <td>ACORN-A</td>\n",
       "      <td>Affluent</td>\n",
       "      <td>block_0</td>\n",
       "    </tr>\n",
       "    <tr>\n",
       "      <th>3839</th>\n",
       "      <td>MAC000002</td>\n",
       "      <td>2013-01-01 01:00:00.0000000</td>\n",
       "      <td>0.191</td>\n",
       "      <td>Std</td>\n",
       "      <td>ACORN-A</td>\n",
       "      <td>Affluent</td>\n",
       "      <td>block_0</td>\n",
       "    </tr>\n",
       "    <tr>\n",
       "      <th>3840</th>\n",
       "      <td>MAC000002</td>\n",
       "      <td>2013-01-01 01:30:00.0000000</td>\n",
       "      <td>0.235</td>\n",
       "      <td>Std</td>\n",
       "      <td>ACORN-A</td>\n",
       "      <td>Affluent</td>\n",
       "      <td>block_0</td>\n",
       "    </tr>\n",
       "    <tr>\n",
       "      <th>3841</th>\n",
       "      <td>MAC000002</td>\n",
       "      <td>2013-01-01 02:00:00.0000000</td>\n",
       "      <td>0.182</td>\n",
       "      <td>Std</td>\n",
       "      <td>ACORN-A</td>\n",
       "      <td>Affluent</td>\n",
       "      <td>block_0</td>\n",
       "    </tr>\n",
       "  </tbody>\n",
       "</table>\n",
       "</div>"
      ],
      "text/plain": [
       "          LCLid                         tstp energy(kWh/hh) stdorToU    Acorn  \\\n",
       "3837  MAC000002  2013-01-01 00:00:00.0000000         0.219       Std  ACORN-A   \n",
       "3838  MAC000002  2013-01-01 00:30:00.0000000         0.241       Std  ACORN-A   \n",
       "3839  MAC000002  2013-01-01 01:00:00.0000000         0.191       Std  ACORN-A   \n",
       "3840  MAC000002  2013-01-01 01:30:00.0000000         0.235       Std  ACORN-A   \n",
       "3841  MAC000002  2013-01-01 02:00:00.0000000         0.182       Std  ACORN-A   \n",
       "\n",
       "     Acorn_grouped     file  \n",
       "3837      Affluent  block_0  \n",
       "3838      Affluent  block_0  \n",
       "3839      Affluent  block_0  \n",
       "3840      Affluent  block_0  \n",
       "3841      Affluent  block_0  "
      ]
     },
     "execution_count": 19,
     "metadata": {},
     "output_type": "execute_result"
    }
   ],
   "source": [
    "merge_block_0 = pd.merge(block_0,household_info_block0, on = 'LCLid')\n",
    "temp_block_0 = merge_block_0.tstp.str.contains('2013')\n",
    "block_0_2013 = merge_block_0[temp_block_0]\n",
    "block_0_2013.head()"
   ]
  },
  {
   "cell_type": "code",
   "execution_count": 20,
   "metadata": {},
   "outputs": [],
   "source": [
    "merge_block_1 = pd.merge(block_1,household_info_block1, on = 'LCLid')\n",
    "temp_block_1 = merge_block_1.tstp.str.contains('2013')\n",
    "block_1_2013 = merge_block_1[temp_block_1] # Final Block 1 2013 values\n",
    "\n",
    "merge_block_2 = pd.merge(block_2,household_info_block2, on = 'LCLid')\n",
    "temp_block_2 = merge_block_2.tstp.str.contains('2013')\n",
    "block_2_2013 = merge_block_2[temp_block_2] # Final Block 2 2013 values\n",
    "\n",
    "merge_block_3 = pd.merge(block_3,household_info_block3, on = 'LCLid')\n",
    "temp_block_3 = merge_block_3.tstp.str.contains('2013')\n",
    "block_3_2013 = merge_block_3[temp_block_3] # Final Block 3 2013 values\n",
    "\n",
    "merge_block_4 = pd.merge(block_4,household_info_block4, on = 'LCLid')\n",
    "temp_block_4 = merge_block_4.tstp.str.contains('2013')\n",
    "block_4_2013 = merge_block_4[temp_block_4] # Final Block 4 2013 values\n",
    "\n",
    "merge_block_5 = pd.merge(block_5,household_info_block5, on = 'LCLid')\n",
    "temp_block_5 = merge_block_5.tstp.str.contains('2013')\n",
    "block_5_2013 = merge_block_5[temp_block_5] # Final Block 5 2013 values\n",
    "\n",
    "merge_block_6 = pd.merge(block_6,household_info_block6, on = 'LCLid')\n",
    "temp_block_6 = merge_block_6.tstp.str.contains('2013')\n",
    "block_6_2013 = merge_block_6[temp_block_6] # Final Block 6 2013 values\n",
    "\n",
    "merge_block_7 = pd.merge(block_7,household_info_block7, on = 'LCLid')\n",
    "temp_block_7 = merge_block_7.tstp.str.contains('2013')\n",
    "block_7_2013 = merge_block_7[temp_block_7] # Final Block 7 2013 values\n",
    "\n",
    "merge_block_8 = pd.merge(block_8,household_info_block8, on = 'LCLid')\n",
    "temp_block_8 = merge_block_8.tstp.str.contains('2013')\n",
    "block_8_2013 = merge_block_8[temp_block_8] # Final Block 8 2013 values\n",
    "\n",
    "merge_block_9 = pd.merge(block_9,household_info_block9, on = 'LCLid')\n",
    "temp_block_9 = merge_block_9.tstp.str.contains('2013')\n",
    "block_9_2013 = merge_block_9[temp_block_9] # Final Block 9 2013 values\n",
    "\n",
    "merge_block_10 = pd.merge(block_10,household_info_block10, on = 'LCLid')\n",
    "temp_block_10 = merge_block_10.tstp.str.contains('2013')\n",
    "block_10_2013 = merge_block_10[temp_block_10] # Final Block 10 2013 values\n",
    "\n",
    "merge_block_11 = pd.merge(block_11,household_info_block11, on = 'LCLid')\n",
    "temp_block_11 = merge_block_11.tstp.str.contains('2013')\n",
    "block_11_2013 = merge_block_11[temp_block_11] # Final Block 11 2013 values\n",
    "\n",
    "merge_block_12 = pd.merge(block_12,household_info_block12, on = 'LCLid')\n",
    "temp_block_12 = merge_block_12.tstp.str.contains('2013')\n",
    "block_12_2013 = merge_block_12[temp_block_12] # Final Block 12 2013 values\n",
    "\n",
    "merge_block_13 = pd.merge(block_13,household_info_block13, on = 'LCLid')\n",
    "temp_block_13 = merge_block_13.tstp.str.contains('2013')\n",
    "block_13_2013 = merge_block_13[temp_block_13] # Final Block 13 2013 values\n",
    "\n",
    "merge_block_14 = pd.merge(block_14,household_info_block14, on = 'LCLid')\n",
    "temp_block_14 = merge_block_14.tstp.str.contains('2013')\n",
    "block_14_2013 = merge_block_14[temp_block_14]"
   ]
  },
  {
   "cell_type": "markdown",
   "metadata": {},
   "source": [
    "These blocks can now be concatenated into one large master block 2013 DataFrame:\n"
   ]
  },
  {
   "cell_type": "code",
   "execution_count": 21,
   "metadata": {},
   "outputs": [],
   "source": [
    "master_block_2013 = pd.concat([block_0_2013,block_1_2013,block_2_2013,\n",
    "block_3_2013,block_4_2013,block_5_2013,block_6_2013,block_7_2013,\n",
    "block_8_2013,block_9_2013,block_10_2013,block_11_2013,block_12_2013,\n",
    "block_13_2013,block_14_2013])"
   ]
  },
  {
   "cell_type": "markdown",
   "metadata": {},
   "source": [
    "This master DataFrame will be used to munge data according to which question that is being analyzed.\n",
    "\n",
    "Energy Consumption by Socioeconomic Group\n",
    "\n",
    "The first question stated in the introduction is \"What are the differences in energy consumption between 'Affluent', 'Comfortable', and 'Adversity' groups in London?\" Let's subgroup the households defined by ACORN as 'Affluent'."
   ]
  },
  {
   "cell_type": "code",
   "execution_count": 22,
   "metadata": {},
   "outputs": [],
   "source": [
    "Affluent_2013 = master_block_2013[master_block_2013.Acorn_grouped == 'Affluent']\n"
   ]
  },
  {
   "cell_type": "code",
   "execution_count": 25,
   "metadata": {},
   "outputs": [
    {
     "data": {
      "text/html": [
       "<div>\n",
       "<style scoped>\n",
       "    .dataframe tbody tr th:only-of-type {\n",
       "        vertical-align: middle;\n",
       "    }\n",
       "\n",
       "    .dataframe tbody tr th {\n",
       "        vertical-align: top;\n",
       "    }\n",
       "\n",
       "    .dataframe thead th {\n",
       "        text-align: right;\n",
       "    }\n",
       "</style>\n",
       "<table border=\"1\" class=\"dataframe\">\n",
       "  <thead>\n",
       "    <tr style=\"text-align: right;\">\n",
       "      <th></th>\n",
       "      <th>LCLid</th>\n",
       "      <th>tstp</th>\n",
       "      <th>energy(kWh/hh)</th>\n",
       "      <th>stdorToU</th>\n",
       "      <th>Acorn</th>\n",
       "      <th>Acorn_grouped</th>\n",
       "      <th>file</th>\n",
       "    </tr>\n",
       "  </thead>\n",
       "  <tbody>\n",
       "    <tr>\n",
       "      <th>3837</th>\n",
       "      <td>MAC000002</td>\n",
       "      <td>2013-01-01 00:00:00.0000000</td>\n",
       "      <td>0.219</td>\n",
       "      <td>Std</td>\n",
       "      <td>ACORN-A</td>\n",
       "      <td>Affluent</td>\n",
       "      <td>block_0</td>\n",
       "    </tr>\n",
       "    <tr>\n",
       "      <th>3838</th>\n",
       "      <td>MAC000002</td>\n",
       "      <td>2013-01-01 00:30:00.0000000</td>\n",
       "      <td>0.241</td>\n",
       "      <td>Std</td>\n",
       "      <td>ACORN-A</td>\n",
       "      <td>Affluent</td>\n",
       "      <td>block_0</td>\n",
       "    </tr>\n",
       "    <tr>\n",
       "      <th>3839</th>\n",
       "      <td>MAC000002</td>\n",
       "      <td>2013-01-01 01:00:00.0000000</td>\n",
       "      <td>0.191</td>\n",
       "      <td>Std</td>\n",
       "      <td>ACORN-A</td>\n",
       "      <td>Affluent</td>\n",
       "      <td>block_0</td>\n",
       "    </tr>\n",
       "    <tr>\n",
       "      <th>3840</th>\n",
       "      <td>MAC000002</td>\n",
       "      <td>2013-01-01 01:30:00.0000000</td>\n",
       "      <td>0.235</td>\n",
       "      <td>Std</td>\n",
       "      <td>ACORN-A</td>\n",
       "      <td>Affluent</td>\n",
       "      <td>block_0</td>\n",
       "    </tr>\n",
       "    <tr>\n",
       "      <th>3841</th>\n",
       "      <td>MAC000002</td>\n",
       "      <td>2013-01-01 02:00:00.0000000</td>\n",
       "      <td>0.182</td>\n",
       "      <td>Std</td>\n",
       "      <td>ACORN-A</td>\n",
       "      <td>Affluent</td>\n",
       "      <td>block_0</td>\n",
       "    </tr>\n",
       "  </tbody>\n",
       "</table>\n",
       "</div>"
      ],
      "text/plain": [
       "          LCLid                         tstp energy(kWh/hh) stdorToU    Acorn  \\\n",
       "3837  MAC000002  2013-01-01 00:00:00.0000000         0.219       Std  ACORN-A   \n",
       "3838  MAC000002  2013-01-01 00:30:00.0000000         0.241       Std  ACORN-A   \n",
       "3839  MAC000002  2013-01-01 01:00:00.0000000         0.191       Std  ACORN-A   \n",
       "3840  MAC000002  2013-01-01 01:30:00.0000000         0.235       Std  ACORN-A   \n",
       "3841  MAC000002  2013-01-01 02:00:00.0000000         0.182       Std  ACORN-A   \n",
       "\n",
       "     Acorn_grouped     file  \n",
       "3837      Affluent  block_0  \n",
       "3838      Affluent  block_0  \n",
       "3839      Affluent  block_0  \n",
       "3840      Affluent  block_0  \n",
       "3841      Affluent  block_0  "
      ]
     },
     "execution_count": 25,
     "metadata": {},
     "output_type": "execute_result"
    }
   ],
   "source": [
    "Affluent_2013 = Affluent_2013.rename(columns={'KWH/hh (per half hour)': 'KWH'})\n",
    "Affluent_2013.head()"
   ]
  },
  {
   "cell_type": "code",
   "execution_count": 27,
   "metadata": {},
   "outputs": [
    {
     "data": {
      "text/plain": [
       "3837     0.219 \n",
       "3838     0.241 \n",
       "3839     0.191 \n",
       "3840     0.235 \n",
       "3841     0.182 \n",
       "Name: energy(kWh/hh), dtype: object"
      ]
     },
     "execution_count": 27,
     "metadata": {},
     "output_type": "execute_result"
    }
   ],
   "source": [
    "kwh_hh = Affluent_2013['energy(kWh/hh)']\n",
    "kwh_hh.head()"
   ]
  },
  {
   "cell_type": "code",
   "execution_count": 28,
   "metadata": {},
   "outputs": [
    {
     "name": "stdout",
     "output_type": "stream",
     "text": [
      "8709586.25078151\n"
     ]
    }
   ],
   "source": [
    "Affluent_2013_kwh_hh = pd.to_numeric(Affluent_2013['energy(kWh/hh)'], errors='coerce')\n",
    "Affluent_2013_sum = Affluent_2013_kwh_hh.sum()\n",
    "print(Affluent_2013_sum)"
   ]
  },
  {
   "cell_type": "markdown",
   "metadata": {},
   "source": [
    "So households grouped as 'Affluent' collectively used ~8,709,586.25 KWH/hh energy in 2013. These same techniques are applied for 'Comfortable' and 'Adversity' households."
   ]
  },
  {
   "cell_type": "code",
   "execution_count": 29,
   "metadata": {},
   "outputs": [
    {
     "data": {
      "text/html": [
       "<div>\n",
       "<style scoped>\n",
       "    .dataframe tbody tr th:only-of-type {\n",
       "        vertical-align: middle;\n",
       "    }\n",
       "\n",
       "    .dataframe tbody tr th {\n",
       "        vertical-align: top;\n",
       "    }\n",
       "\n",
       "    .dataframe thead th {\n",
       "        text-align: right;\n",
       "    }\n",
       "</style>\n",
       "<table border=\"1\" class=\"dataframe\">\n",
       "  <thead>\n",
       "    <tr style=\"text-align: right;\">\n",
       "      <th></th>\n",
       "      <th>LCLid</th>\n",
       "      <th>tstp</th>\n",
       "      <th>energy(kWh/hh)</th>\n",
       "      <th>stdorToU</th>\n",
       "      <th>Acorn</th>\n",
       "      <th>Acorn_grouped</th>\n",
       "      <th>file</th>\n",
       "    </tr>\n",
       "  </thead>\n",
       "  <tbody>\n",
       "    <tr>\n",
       "      <th>132406</th>\n",
       "      <td>MAC000007</td>\n",
       "      <td>2013-01-01 00:00:00.0000000</td>\n",
       "      <td>0.247</td>\n",
       "      <td>Std</td>\n",
       "      <td>ACORN-H</td>\n",
       "      <td>Comfortable</td>\n",
       "      <td>block_0</td>\n",
       "    </tr>\n",
       "    <tr>\n",
       "      <th>132407</th>\n",
       "      <td>MAC000007</td>\n",
       "      <td>2013-01-01 00:30:00.0000000</td>\n",
       "      <td>0.204</td>\n",
       "      <td>Std</td>\n",
       "      <td>ACORN-H</td>\n",
       "      <td>Comfortable</td>\n",
       "      <td>block_0</td>\n",
       "    </tr>\n",
       "    <tr>\n",
       "      <th>132408</th>\n",
       "      <td>MAC000007</td>\n",
       "      <td>2013-01-01 01:00:00.0000000</td>\n",
       "      <td>0.161</td>\n",
       "      <td>Std</td>\n",
       "      <td>ACORN-H</td>\n",
       "      <td>Comfortable</td>\n",
       "      <td>block_0</td>\n",
       "    </tr>\n",
       "    <tr>\n",
       "      <th>132409</th>\n",
       "      <td>MAC000007</td>\n",
       "      <td>2013-01-01 01:30:00.0000000</td>\n",
       "      <td>0.214</td>\n",
       "      <td>Std</td>\n",
       "      <td>ACORN-H</td>\n",
       "      <td>Comfortable</td>\n",
       "      <td>block_0</td>\n",
       "    </tr>\n",
       "    <tr>\n",
       "      <th>132410</th>\n",
       "      <td>MAC000007</td>\n",
       "      <td>2013-01-01 02:00:00.0000000</td>\n",
       "      <td>0.186</td>\n",
       "      <td>Std</td>\n",
       "      <td>ACORN-H</td>\n",
       "      <td>Comfortable</td>\n",
       "      <td>block_0</td>\n",
       "    </tr>\n",
       "  </tbody>\n",
       "</table>\n",
       "</div>"
      ],
      "text/plain": [
       "            LCLid                         tstp energy(kWh/hh) stdorToU  \\\n",
       "132406  MAC000007  2013-01-01 00:00:00.0000000         0.247       Std   \n",
       "132407  MAC000007  2013-01-01 00:30:00.0000000         0.204       Std   \n",
       "132408  MAC000007  2013-01-01 01:00:00.0000000         0.161       Std   \n",
       "132409  MAC000007  2013-01-01 01:30:00.0000000         0.214       Std   \n",
       "132410  MAC000007  2013-01-01 02:00:00.0000000         0.186       Std   \n",
       "\n",
       "          Acorn Acorn_grouped     file  \n",
       "132406  ACORN-H   Comfortable  block_0  \n",
       "132407  ACORN-H   Comfortable  block_0  \n",
       "132408  ACORN-H   Comfortable  block_0  \n",
       "132409  ACORN-H   Comfortable  block_0  \n",
       "132410  ACORN-H   Comfortable  block_0  "
      ]
     },
     "execution_count": 29,
     "metadata": {},
     "output_type": "execute_result"
    }
   ],
   "source": [
    "Comfortable_2013 = master_block_2013[master_block_2013.Acorn_grouped == 'Comfortable']\n",
    "Comfortable_2013.head()"
   ]
  },
  {
   "cell_type": "code",
   "execution_count": 31,
   "metadata": {},
   "outputs": [
    {
     "name": "stdout",
     "output_type": "stream",
     "text": [
      "5332295.709879302\n"
     ]
    }
   ],
   "source": [
    "Comfortable_2013 = Comfortable_2013.rename(columns={'KWH/hh (per half hour) ': 'KWH_hh'})\n",
    "Comfortable_2013 = pd.to_numeric(Comfortable_2013['energy(kWh/hh)'], errors='coerce')\n",
    "Comfortable_2013_sum = Comfortable_2013.sum()\n",
    "print(Comfortable_2013_sum)"
   ]
  },
  {
   "cell_type": "markdown",
   "metadata": {},
   "source": [
    "'Comfortable' households collectively used ~5,332,295.71 KW/hh energy in 2013. The only group left is the 'Adversity' group."
   ]
  },
  {
   "cell_type": "code",
   "execution_count": 32,
   "metadata": {},
   "outputs": [
    {
     "data": {
      "text/html": [
       "<div>\n",
       "<style scoped>\n",
       "    .dataframe tbody tr th:only-of-type {\n",
       "        vertical-align: middle;\n",
       "    }\n",
       "\n",
       "    .dataframe tbody tr th {\n",
       "        vertical-align: top;\n",
       "    }\n",
       "\n",
       "    .dataframe thead th {\n",
       "        text-align: right;\n",
       "    }\n",
       "</style>\n",
       "<table border=\"1\" class=\"dataframe\">\n",
       "  <thead>\n",
       "    <tr style=\"text-align: right;\">\n",
       "      <th></th>\n",
       "      <th>LCLid</th>\n",
       "      <th>tstp</th>\n",
       "      <th>energy(kWh/hh)</th>\n",
       "      <th>stdorToU</th>\n",
       "      <th>Acorn</th>\n",
       "      <th>Acorn_grouped</th>\n",
       "      <th>file</th>\n",
       "    </tr>\n",
       "  </thead>\n",
       "  <tbody>\n",
       "    <tr>\n",
       "      <th>39283</th>\n",
       "      <td>MAC000003</td>\n",
       "      <td>2013-01-01 00:00:00.0000000</td>\n",
       "      <td>1.966</td>\n",
       "      <td>Std</td>\n",
       "      <td>ACORN-P</td>\n",
       "      <td>Adversity</td>\n",
       "      <td>block_0</td>\n",
       "    </tr>\n",
       "    <tr>\n",
       "      <th>39284</th>\n",
       "      <td>MAC000003</td>\n",
       "      <td>2013-01-01 00:30:00.0000000</td>\n",
       "      <td>1.9220001</td>\n",
       "      <td>Std</td>\n",
       "      <td>ACORN-P</td>\n",
       "      <td>Adversity</td>\n",
       "      <td>block_0</td>\n",
       "    </tr>\n",
       "    <tr>\n",
       "      <th>39285</th>\n",
       "      <td>MAC000003</td>\n",
       "      <td>2013-01-01 01:00:00.0000000</td>\n",
       "      <td>1.808</td>\n",
       "      <td>Std</td>\n",
       "      <td>ACORN-P</td>\n",
       "      <td>Adversity</td>\n",
       "      <td>block_0</td>\n",
       "    </tr>\n",
       "    <tr>\n",
       "      <th>39286</th>\n",
       "      <td>MAC000003</td>\n",
       "      <td>2013-01-01 01:30:00.0000000</td>\n",
       "      <td>0.795</td>\n",
       "      <td>Std</td>\n",
       "      <td>ACORN-P</td>\n",
       "      <td>Adversity</td>\n",
       "      <td>block_0</td>\n",
       "    </tr>\n",
       "    <tr>\n",
       "      <th>39287</th>\n",
       "      <td>MAC000003</td>\n",
       "      <td>2013-01-01 02:00:00.0000000</td>\n",
       "      <td>1.235</td>\n",
       "      <td>Std</td>\n",
       "      <td>ACORN-P</td>\n",
       "      <td>Adversity</td>\n",
       "      <td>block_0</td>\n",
       "    </tr>\n",
       "  </tbody>\n",
       "</table>\n",
       "</div>"
      ],
      "text/plain": [
       "           LCLid                         tstp energy(kWh/hh) stdorToU  \\\n",
       "39283  MAC000003  2013-01-01 00:00:00.0000000         1.966       Std   \n",
       "39284  MAC000003  2013-01-01 00:30:00.0000000     1.9220001       Std   \n",
       "39285  MAC000003  2013-01-01 01:00:00.0000000         1.808       Std   \n",
       "39286  MAC000003  2013-01-01 01:30:00.0000000         0.795       Std   \n",
       "39287  MAC000003  2013-01-01 02:00:00.0000000         1.235       Std   \n",
       "\n",
       "         Acorn Acorn_grouped     file  \n",
       "39283  ACORN-P     Adversity  block_0  \n",
       "39284  ACORN-P     Adversity  block_0  \n",
       "39285  ACORN-P     Adversity  block_0  \n",
       "39286  ACORN-P     Adversity  block_0  \n",
       "39287  ACORN-P     Adversity  block_0  "
      ]
     },
     "execution_count": 32,
     "metadata": {},
     "output_type": "execute_result"
    }
   ],
   "source": [
    "Adversity_2013 = master_block_2013[master_block_2013.Acorn_grouped == 'Adversity']\n",
    "Adversity_2013.head()"
   ]
  },
  {
   "cell_type": "code",
   "execution_count": 33,
   "metadata": {},
   "outputs": [
    {
     "name": "stdout",
     "output_type": "stream",
     "text": [
      "5373100.987924498\n"
     ]
    }
   ],
   "source": [
    "\n",
    "Adversity_2013 = Adversity_2013.rename(columns={'KWH/hh (per half hour) ': 'KWH_hh'})\n",
    "Adversity_2013 = pd.to_numeric(Adversity_2013['energy(kWh/hh)'], errors='coerce')\n",
    "Adversity_2013_sum = Adversity_2013.sum()\n",
    "print(Adversity_2013_sum)"
   ]
  },
  {
   "cell_type": "code",
   "execution_count": 34,
   "metadata": {},
   "outputs": [
    {
     "data": {
      "text/plain": [
       "40805.278045195155"
      ]
     },
     "execution_count": 34,
     "metadata": {},
     "output_type": "execute_result"
    }
   ],
   "source": [
    "Adversity_2013_sum - Comfortable_2013_sum\n"
   ]
  },
  {
   "cell_type": "markdown",
   "metadata": {},
   "source": [
    "'Adversity' households collectively used ~5,373,100.99 kWh/hh energy in 2013. In a surprising discovery, the 'Adversity' socioeconomic group consumed more collective energy, approximately 40,805.28 kWh/hh, or 0.760% more energy, than the 'comfortable' group."
   ]
  },
  {
   "cell_type": "code",
   "execution_count": 35,
   "metadata": {},
   "outputs": [
    {
     "data": {
      "text/plain": [
       "3377290.5409022076"
      ]
     },
     "execution_count": 35,
     "metadata": {},
     "output_type": "execute_result"
    }
   ],
   "source": [
    "Affluent_2013_sum - Comfortable_2013_sum\n"
   ]
  },
  {
   "cell_type": "markdown",
   "metadata": {},
   "source": [
    "'Affluent' households collectively consumed 3,377,290.54 kWh/hh, or 63.34% more energy than 'Comfortable' households, and 'Affluent' households consumed 62.10% more energy than their 'Adversity' household counterparts. A summary of these energy findings are tabulated below:\n",
    "\n",
    "Table 1: Energy Consumption by Socioeconomic Group\n",
    "\n",
    "Socioeconomic Group\tEnergy Consumption (kWh/hh)\n",
    "'Affluent'\t8,709,586.25\n",
    "'Comfortable'\t5,332,295.71\n",
    "'Adversity'\t5,373,100.99\n",
    "Table 2: Comparison of Energy Consumption by Socioeconomic Group\n",
    "\n",
    "Socioeconomic Group Comparison\tPercent Increase\n",
    "'Comfortable' to 'Affluent'\t63.34%\n",
    "'Comfortable' to 'Adversity'\t0.760%\n",
    "'Adversity' to 'Affluent'\t62.10%\n",
    "Now that the energy consumption of all three groups have been calculated, the Matplotlib library can be employed for data visualization:"
   ]
  },
  {
   "cell_type": "code",
   "execution_count": 38,
   "metadata": {},
   "outputs": [
    {
     "data": {
      "image/png": "[encoded data removed]",
      "text/plain": [
       "<Figure size 432x288 with 1 Axes>"
      ]
     },
     "metadata": {
      "needs_background": "light"
     },
     "output_type": "display_data"
    }
   ],
   "source": [
    "import matplotlib.pyplot as plt\n",
    "\n",
    "# establishes dictionaries for bar graph\n",
    "socio_numbers = {1: Affluent_2013_sum,2: Comfortable_2013_sum,3: Adversity_2013_sum}\n",
    "socio_descriptions = {'Affluent': Affluent_2013_sum,\n",
    "'Comfortable': Comfortable_2013_sum,'Adversity': Adversity_2013_sum}\n",
    "\n",
    "# bar graph w/ title, x and y axis labels\n",
    "plt.bar(list(socio_numbers.keys()),list(socio_numbers.values()),\n",
    "tick_label = (socio_descriptions.keys()))\n",
    "plt.title(\"Socioeconomic Energy Usage (2013)\")\n",
    "plt.ylabel('Energy (KWH/hh)')\n",
    "plt.xlabel('Socioeconomic Group')\n",
    "plt.show()"
   ]
  },
  {
   "cell_type": "code",
   "execution_count": 40,
   "metadata": {},
   "outputs": [
    {
     "data": {
      "text/html": [
       "<div>\n",
       "<style scoped>\n",
       "    .dataframe tbody tr th:only-of-type {\n",
       "        vertical-align: middle;\n",
       "    }\n",
       "\n",
       "    .dataframe tbody tr th {\n",
       "        vertical-align: top;\n",
       "    }\n",
       "\n",
       "    .dataframe thead th {\n",
       "        text-align: right;\n",
       "    }\n",
       "</style>\n",
       "<table border=\"1\" class=\"dataframe\">\n",
       "  <thead>\n",
       "    <tr style=\"text-align: right;\">\n",
       "      <th></th>\n",
       "      <th>LCLid</th>\n",
       "      <th>tstp</th>\n",
       "      <th>energy(kWh/hh)</th>\n",
       "      <th>stdorToU</th>\n",
       "      <th>Acorn</th>\n",
       "      <th>Acorn_grouped</th>\n",
       "      <th>file</th>\n",
       "    </tr>\n",
       "  </thead>\n",
       "  <tbody>\n",
       "    <tr>\n",
       "      <th>3837</th>\n",
       "      <td>MAC000002</td>\n",
       "      <td>2013-01-01 00:00:00.0000000</td>\n",
       "      <td>0.219</td>\n",
       "      <td>Std</td>\n",
       "      <td>ACORN-A</td>\n",
       "      <td>Affluent</td>\n",
       "      <td>block_0</td>\n",
       "    </tr>\n",
       "    <tr>\n",
       "      <th>3885</th>\n",
       "      <td>MAC000002</td>\n",
       "      <td>2013-01-02 00:00:00.0000000</td>\n",
       "      <td>0.253</td>\n",
       "      <td>Std</td>\n",
       "      <td>ACORN-A</td>\n",
       "      <td>Affluent</td>\n",
       "      <td>block_0</td>\n",
       "    </tr>\n",
       "    <tr>\n",
       "      <th>3933</th>\n",
       "      <td>MAC000002</td>\n",
       "      <td>2013-01-03 00:00:00.0000000</td>\n",
       "      <td>0.196</td>\n",
       "      <td>Std</td>\n",
       "      <td>ACORN-A</td>\n",
       "      <td>Affluent</td>\n",
       "      <td>block_0</td>\n",
       "    </tr>\n",
       "    <tr>\n",
       "      <th>3981</th>\n",
       "      <td>MAC000002</td>\n",
       "      <td>2013-01-04 00:00:00.0000000</td>\n",
       "      <td>0.257</td>\n",
       "      <td>Std</td>\n",
       "      <td>ACORN-A</td>\n",
       "      <td>Affluent</td>\n",
       "      <td>block_0</td>\n",
       "    </tr>\n",
       "    <tr>\n",
       "      <th>4029</th>\n",
       "      <td>MAC000002</td>\n",
       "      <td>2013-01-05 00:00:00.0000000</td>\n",
       "      <td>0.195</td>\n",
       "      <td>Std</td>\n",
       "      <td>ACORN-A</td>\n",
       "      <td>Affluent</td>\n",
       "      <td>block_0</td>\n",
       "    </tr>\n",
       "  </tbody>\n",
       "</table>\n",
       "</div>"
      ],
      "text/plain": [
       "          LCLid                         tstp energy(kWh/hh) stdorToU    Acorn  \\\n",
       "3837  MAC000002  2013-01-01 00:00:00.0000000         0.219       Std  ACORN-A   \n",
       "3885  MAC000002  2013-01-02 00:00:00.0000000         0.253       Std  ACORN-A   \n",
       "3933  MAC000002  2013-01-03 00:00:00.0000000         0.196       Std  ACORN-A   \n",
       "3981  MAC000002  2013-01-04 00:00:00.0000000         0.257       Std  ACORN-A   \n",
       "4029  MAC000002  2013-01-05 00:00:00.0000000         0.195       Std  ACORN-A   \n",
       "\n",
       "     Acorn_grouped     file  \n",
       "3837      Affluent  block_0  \n",
       "3885      Affluent  block_0  \n",
       "3933      Affluent  block_0  \n",
       "3981      Affluent  block_0  \n",
       "4029      Affluent  block_0  "
      ]
     },
     "execution_count": 40,
     "metadata": {},
     "output_type": "execute_result"
    }
   ],
   "source": [
    "zero_2013 = master_block_2013.tstp.str.contains('00:00:00.0000000')\n",
    "zero_2013_final = master_block_2013[zero_2013]\n",
    "zero_2013_final.head()"
   ]
  },
  {
   "cell_type": "code",
   "execution_count": 41,
   "metadata": {},
   "outputs": [
    {
     "name": "stdout",
     "output_type": "stream",
     "text": [
      "358132.7710013998\n"
     ]
    }
   ],
   "source": [
    "zero_2013_final = zero_2013_final.rename(columns={'KWH/hh (per half hour) ': 'KWH_hh'})\n",
    "zero_2013_KWH = pd.to_numeric(zero_2013_final['energy(kWh/hh)'], errors='coerce')\n",
    "zero_2013_sum = zero_2013_KWH.sum()\n",
    "print(zero_2013_sum)"
   ]
  },
  {
   "cell_type": "code",
   "execution_count": 43,
   "metadata": {},
   "outputs": [
    {
     "name": "stdout",
     "output_type": "stream",
     "text": [
      "224968.10501190007\n"
     ]
    }
   ],
   "source": [
    "threeAM_2013 = master_block_2013.tstp.str.contains('03:00:00.0000000')\n",
    "threeAM_2013_final = master_block_2013[threeAM_2013]\n",
    "threeAM_2013_final = threeAM_2013_final.rename(columns={'KWH/hh (per half hour) ': 'KWH_hh'})\n",
    "\n",
    "threeAM_2013_KWH = pd.to_numeric(threeAM_2013_final['energy(kWh/hh)'], errors='coerce')\n",
    "threeAM_2013_sum = threeAM_2013_KWH.sum()\n",
    "print(threeAM_2013_sum)"
   ]
  },
  {
   "cell_type": "code",
   "execution_count": 44,
   "metadata": {},
   "outputs": [
    {
     "name": "stdout",
     "output_type": "stream",
     "text": [
      "285415.60099189996\n"
     ]
    }
   ],
   "source": [
    "sixAM_2013 = master_block_2013.tstp.str.contains('06:00:00.0000000')\n",
    "sixAM_2013_final = master_block_2013[sixAM_2013]\n",
    "sixAM_2013_final = sixAM_2013_final.rename(columns={'KWH/hh (per half hour) ': 'KWH_hh'})\n",
    "\n",
    "sixAM_2013_KWH = pd.to_numeric(sixAM_2013_final['energy(kWh/hh)'], errors='coerce')\n",
    "sixAM_2013_sum = sixAM_2013_KWH.sum()\n",
    "print(sixAM_2013_sum)"
   ]
  },
  {
   "cell_type": "code",
   "execution_count": 45,
   "metadata": {},
   "outputs": [
    {
     "name": "stdout",
     "output_type": "stream",
     "text": [
      "418533.03798460023\n"
     ]
    }
   ],
   "source": [
    "nineAM_2013 = master_block_2013.tstp.str.contains('09:00:00.0000000')\n",
    "nineAM_2013_final = master_block_2013[nineAM_2013]\n",
    "nineAM_2013_final = nineAM_2013_final.rename(columns={'KWH/hh (per half hour) ': 'KWH_hh'})\n",
    "\n",
    "nineAM_2013_KWH = pd.to_numeric(nineAM_2013_final['energy(kWh/hh)'], errors='coerce')\n",
    "nineAM_2013_sum = nineAM_2013_KWH.sum()\n",
    "print(nineAM_2013_sum)"
   ]
  },
  {
   "cell_type": "code",
   "execution_count": 46,
   "metadata": {},
   "outputs": [
    {
     "name": "stdout",
     "output_type": "stream",
     "text": [
      "418149.7319920001\n"
     ]
    }
   ],
   "source": [
    "twelvePM_2013 = master_block_2013.tstp.str.contains('12:00:00.0000000')\n",
    "twelvePM_2013_final = master_block_2013[twelvePM_2013]\n",
    "twelvePM_2013_final = twelvePM_2013_final.rename(columns={'KWH/hh (per half hour) ': 'KWH_hh'})\n",
    "\n",
    "twelvePM_2013_KWH = pd.to_numeric(twelvePM_2013_final['energy(kWh/hh)'], errors='coerce')\n",
    "twelvePM_2013_sum = twelvePM_2013_KWH.sum()\n",
    "print(twelvePM_2013_sum)"
   ]
  },
  {
   "cell_type": "code",
   "execution_count": 47,
   "metadata": {},
   "outputs": [
    {
     "name": "stdout",
     "output_type": "stream",
     "text": [
      "411178.8119728\n"
     ]
    }
   ],
   "source": [
    "threePM_2013 = master_block_2013.tstp.str.contains('15:00:00.0000000')\n",
    "threePM_2013_final = master_block_2013[threePM_2013]\n",
    "threePM_2013_final = threePM_2013_final.rename(columns={'KWH/hh (per half hour) ': 'KWH_hh'})\n",
    "\n",
    "threePM_2013_KWH = pd.to_numeric(threePM_2013_final['energy(kWh/hh)'], errors='coerce')\n",
    "threePM_2013_sum = threePM_2013_KWH.sum()\n",
    "print(threePM_2013_sum)"
   ]
  },
  {
   "cell_type": "code",
   "execution_count": 48,
   "metadata": {},
   "outputs": [
    {
     "name": "stdout",
     "output_type": "stream",
     "text": [
      "585670.8449864002\n"
     ]
    }
   ],
   "source": [
    "sixPM_2013 = master_block_2013.tstp.str.contains('18:00:00.0000000')\n",
    "sixPM_2013_final = master_block_2013[sixPM_2013]\n",
    "sixPM_2013_final = sixPM_2013_final.rename(columns={'KWH/hh (per half hour) ': 'KWH_hh'})\n",
    "\n",
    "sixPM_2013_KWH = pd.to_numeric(sixPM_2013_final['energy(kWh/hh)'], errors='coerce')\n",
    "sixPM_2013_sum = sixPM_2013_KWH.sum()\n",
    "print(sixPM_2013_sum)"
   ]
  },
  {
   "cell_type": "code",
   "execution_count": 49,
   "metadata": {},
   "outputs": [
    {
     "name": "stdout",
     "output_type": "stream",
     "text": [
      "579272.6919891002\n"
     ]
    }
   ],
   "source": [
    "ninePM_2013 = master_block_2013.tstp.str.contains('21:00:00.0000000')\n",
    "ninePM_2013_final = master_block_2013[ninePM_2013]\n",
    "ninePM_2013_final = ninePM_2013_final.rename(columns={'KWH/hh (per half hour) ': 'KWH_hh'})\n",
    "\n",
    "ninePM_2013_KWH = pd.to_numeric(ninePM_2013_final['energy(kWh/hh)'], errors='coerce')\n",
    "ninePM_2013_sum = ninePM_2013_KWH.sum()\n",
    "print(ninePM_2013_sum)"
   ]
  },
  {
   "cell_type": "code",
   "execution_count": 50,
   "metadata": {},
   "outputs": [],
   "source": [
    "# establishes dictionaries for bar graph\n",
    "hour_numbers = {1: zero_2013_sum, 2: threeAM_2013_sum, 3: sixAM_2013_sum, \n",
    "4:nineAM_2013_sum, 5:twelvePM_2013_sum, 6:threePM_2013_sum, \n",
    "7: sixPM_2013_sum, 8: ninePM_2013_sum}\n",
    "\n",
    "hour_descriptions = {'12:00AM': zero_2013_sum,'3:00AM': threeAM_2013_sum,\n",
    "'6:00AM': sixAM_2013_sum, '9:00AM':nineAM_2013_sum, '12:00PM':twelvePM_2013_sum,\n",
    "'3:00PM':threePM_2013_sum, '6:00PM':sixPM_2013_sum,'9:00PM':ninePM_2013_sum}"
   ]
  },
  {
   "cell_type": "code",
   "execution_count": 51,
   "metadata": {},
   "outputs": [
    {
     "data": {
      "image/png": "[encoded data removed]",
      "text/plain": [
       "<Figure size 432x288 with 1 Axes>"
      ]
     },
     "metadata": {
      "needs_background": "light"
     },
     "output_type": "display_data"
    }
   ],
   "source": [
    "# bar graph w/ title, x and y axis labels\n",
    "plt.bar(list(hour_numbers.keys()),list(hour_numbers.values()))\n",
    "plt.title(\"Energy Use by Hour (2013)\")\n",
    "plt.ylabel('Energy (KWH/hh)')\n",
    "plt.xlabel('Measured Time Points')\n",
    "\n",
    "# rotates x axis ticks 45 degrees\n",
    "plt.xticks(list(hour_numbers.keys()), hour_descriptions.keys(), rotation='45')\n",
    "plt.show()"
   ]
  },
  {
   "cell_type": "code",
   "execution_count": 52,
   "metadata": {},
   "outputs": [
    {
     "name": "stdout",
     "output_type": "stream",
     "text": [
      "65269.36800130001\n"
     ]
    }
   ],
   "source": [
    "NYD_2013 = master_block_2013.tstp.str.contains('2013-01-01')\n",
    "NYD_2013 = master_block_2013[NYD_2013]\n",
    "NYD_2013_final = NYD_2013.rename(columns={'KWH/hh (per half hour) ': 'KWH_hh'})\n",
    "NYD_2013_final = pd.to_numeric(NYD_2013_final['energy(kWh/hh)'], errors='coerce')\n",
    "\n",
    "NYD_2013_sum = NYD_2013_final.sum()\n",
    "print(NYD_2013_sum)"
   ]
  },
  {
   "cell_type": "code",
   "execution_count": 53,
   "metadata": {},
   "outputs": [
    {
     "name": "stdout",
     "output_type": "stream",
     "text": [
      "66136.13000569999\n"
     ]
    }
   ],
   "source": [
    "GF_2013 = master_block_2013.tstp.str.contains('2013-03-29')\n",
    "GF_2013 = master_block_2013[GF_2013]\n",
    "GF_2013_final = GF_2013.rename(columns={'KWH/hh (per half hour) ': 'KWH_hh'})\n",
    "GF_2013_final = pd.to_numeric(GF_2013_final['energy(kWh/hh)'], errors='coerce')\n",
    "\n",
    "GF_2013_sum = GF_2013_final.sum()\n",
    "print(GF_2013_sum)"
   ]
  },
  {
   "cell_type": "code",
   "execution_count": 54,
   "metadata": {},
   "outputs": [
    {
     "name": "stdout",
     "output_type": "stream",
     "text": [
      "64764.99600129999\n"
     ]
    }
   ],
   "source": [
    "EM_2013 = master_block_2013.tstp.str.contains('2013-04-01')\n",
    "EM_2013 = master_block_2013[EM_2013]\n",
    "EM_2013_final = EM_2013.rename(columns={'KWH/hh (per half hour) ': 'KWH_hh'})\n",
    "EM_2013_final = pd.to_numeric(EM_2013_final['energy(kWh/hh)'], errors='coerce')\n",
    "\n",
    "EM_2013_sum = EM_2013_final.sum()\n",
    "print(EM_2013_sum)"
   ]
  },
  {
   "cell_type": "code",
   "execution_count": 55,
   "metadata": {},
   "outputs": [
    {
     "name": "stdout",
     "output_type": "stream",
     "text": [
      "46434.924996999995\n"
     ]
    }
   ],
   "source": [
    "EMBH_2013 = master_block_2013.tstp.str.contains('2013-05-06')\n",
    "EMBH_2013 = master_block_2013[EMBH_2013]\n",
    "EMBH_2013_final = EMBH_2013.rename(columns={'KWH/hh (per half hour) ': 'KWH_hh'})\n",
    "EMBH_2013_final = pd.to_numeric(EMBH_2013_final['energy(kWh/hh)'], errors='coerce')\n",
    "\n",
    "EMBH_2013_sum = EMBH_2013_final.sum()\n",
    "print(EMBH_2013_sum)"
   ]
  },
  {
   "cell_type": "code",
   "execution_count": 56,
   "metadata": {},
   "outputs": [
    {
     "name": "stdout",
     "output_type": "stream",
     "text": [
      "45846.575996700005\n"
     ]
    }
   ],
   "source": [
    "SBH_2013 = master_block_2013.tstp.str.contains('2013-05-27')\n",
    "SBH_2013 = master_block_2013[SBH_2013]\n",
    "SBH_2013_final = SBH_2013.rename(columns={'KWH/hh (per half hour) ': 'KWH_hh'})\n",
    "SBH_2013_final = pd.to_numeric(SBH_2013_final['energy(kWh/hh)'], errors='coerce')\n",
    "\n",
    "SBH_2013_sum = SBH_2013_final.sum()\n",
    "print(SBH_2013_sum)"
   ]
  },
  {
   "cell_type": "code",
   "execution_count": 57,
   "metadata": {},
   "outputs": [
    {
     "name": "stdout",
     "output_type": "stream",
     "text": [
      "42010.849998599995\n"
     ]
    }
   ],
   "source": [
    "SuBH_2013 = master_block_2013.tstp.str.contains('2013-08-26')\n",
    "SuBH_2013 = master_block_2013[SuBH_2013]\n",
    "SuBH_2013_final = SuBH_2013.rename(columns={'KWH/hh (per half hour) ': 'KWH_hh'})\n",
    "SuBH_2013_final = pd.to_numeric(SuBH_2013_final['energy(kWh/hh)'], errors='coerce')\n",
    "\n",
    "SuBH_2013_sum = SuBH_2013_final.sum()\n",
    "print(SuBH_2013_sum)"
   ]
  },
  {
   "cell_type": "code",
   "execution_count": 58,
   "metadata": {},
   "outputs": [
    {
     "name": "stdout",
     "output_type": "stream",
     "text": [
      "64006.147991200014\n"
     ]
    }
   ],
   "source": [
    "CD_2013 = master_block_2013.tstp.str.contains('2013-12-25')\n",
    "CD_2013 = master_block_2013[CD_2013]\n",
    "CD_2013_final = CD_2013.rename(columns={'KWH/hh (per half hour) ': 'KWH_hh'})\n",
    "CD_2013_final = pd.to_numeric(CD_2013_final['energy(kWh/hh)'], errors='coerce')\n",
    "\n",
    "CD_2013_sum = CD_2013_final.sum()\n",
    "print(CD_2013_sum)"
   ]
  },
  {
   "cell_type": "code",
   "execution_count": 59,
   "metadata": {},
   "outputs": [
    {
     "name": "stdout",
     "output_type": "stream",
     "text": [
      "59479.846002900005\n"
     ]
    }
   ],
   "source": [
    "BD_2013 = master_block_2013.tstp.str.contains('2013-12-26')\n",
    "BD_2013 = master_block_2013[BD_2013]\n",
    "BD_2013_final = BD_2013.rename(columns={'KWH/hh (per half hour) ': 'KWH_hh'})\n",
    "BD_2013_final = pd.to_numeric(BD_2013_final['energy(kWh/hh)'], errors='coerce')\n",
    "\n",
    "BD_2013_sum = BD_2013_final.sum()\n",
    "print(BD_2013_sum)"
   ]
  },
  {
   "cell_type": "code",
   "execution_count": 60,
   "metadata": {},
   "outputs": [],
   "source": [
    "# establishes dictionaries for bar graph\n",
    "holiday_numbers = {1: NYD_2013_sum, 2: GF_2013_sum, 3: EM_2013_sum, \n",
    "4:EMBH_2013_sum, 5:SBH_2013_sum, 6:SuBH_2013_sum, 7: CD_2013_sum, \n",
    "8: BD_2013_sum}\n",
    "\n",
    "holiday_descriptions = {'':\"\",'New Years Day': NYD_2013_sum,'Good Friday': \n",
    "GF_2013_sum,'Easter Monday': EM_2013_sum, 'Early May Bank Holiday':EMBH_2013_sum, \n",
    "'Spring Bank Holiday':SBH_2013_sum,'Summer Bank Holiday':SuBH_2013_sum, \n",
    "'Christmas Day':CD_2013_sum,'Boxing Day':BD_2013_sum}"
   ]
  },
  {
   "cell_type": "code",
   "execution_count": 61,
   "metadata": {},
   "outputs": [
    {
     "data": {
      "image/png": "[encoded data removed]",
      "text/plain": [
       "<Figure size 432x288 with 1 Axes>"
      ]
     },
     "metadata": {
      "needs_background": "light"
     },
     "output_type": "display_data"
    }
   ],
   "source": [
    "fig, ax = plt.subplots() \n",
    "\n",
    "# horizontal bar graph w/ title and x axis label \n",
    "plt.barh(list(holiday_numbers.keys()),list(holiday_numbers.values()))\n",
    "plt.title(\"Energy Consumption by Banking Holiday (2013)\")\n",
    "plt.xlabel('Energy (KWH/hh)')\n",
    "\n",
    "# y axis tick labels, flips order of holidays so \n",
    "# holidays progress January - December from top to bottom\n",
    "ax.set_yticklabels(holiday_descriptions.keys())\n",
    "ax.invert_yaxis()\n",
    "plt.show()"
   ]
  },
  {
   "cell_type": "code",
   "execution_count": null,
   "metadata": {},
   "outputs": [],
   "source": []
  }
 ],
 "metadata": {
  "kernelspec": {
   "display_name": "Python 3",
   "language": "python",
   "name": "python3"
  },
  "language_info": {
   "codemirror_mode": {
    "name": "ipython",
    "version": 3
   },
   "file_extension": ".py",
   "mimetype": "text/x-python",
   "name": "python",
   "nbconvert_exporter": "python",
   "pygments_lexer": "ipython3",
   "version": "3.7.1"
  }
 },
 "nbformat": 4,
 "nbformat_minor": 2
}
